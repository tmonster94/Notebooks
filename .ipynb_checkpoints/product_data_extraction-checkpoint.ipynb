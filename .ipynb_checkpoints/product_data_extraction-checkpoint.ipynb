{
 "cells": [
  {
   "cell_type": "markdown",
   "metadata": {},
   "source": [
    "### Product data extraction\n",
    "\n",
    "This notebook is an example of how to extract product info into an easy format in python.\n",
    "Feel free to copy and use it in any code you may be developing.\n",
    "\n",
    "I did this while doing hackathon night at https://jibia.nl"
   ]
  },
  {
   "cell_type": "markdown",
   "metadata": {},
   "source": [
    "Requirements:  \n",
    "- python 3.7  \n",
    "- requests  \n",
    "- extruct  \n",
    "- re"
   ]
  },
  {
   "cell_type": "code",
   "execution_count": 7,
   "metadata": {},
   "outputs": [],
   "source": [
    "import requests\n",
    "import extruct\n",
    "import re"
   ]
  },
  {
   "cell_type": "code",
   "execution_count": 2,
   "metadata": {},
   "outputs": [],
   "source": [
    "# Random url examples from googling where to buy an xbox one x\n",
    "page_urls = [\n",
    "    \"https://www.wehkamp.nl/microsoft-xbox-one-x-213121/\",\n",
    "    \"https://www.bol.com/nl/p/xbox-one-x-console-1-tb-battlefield-v-battlefield-1943/9200000097502294/\",\n",
    "    \"https://www.walmart.com/ip/Microsoft-Xbox-One-X-1TB-Console-Black-CYV-00001/276629190\",\n",
    "    \"https://www.google.com\",\n",
    "    \"https://www.bing.com\"\n",
    "]"
   ]
  },
  {
   "cell_type": "code",
   "execution_count": 3,
   "metadata": {},
   "outputs": [],
   "source": [
    "gtin13regex = re.compile(\"[^0-9]([0-9]{13})[^0-9]\")"
   ]
  },
  {
   "cell_type": "code",
   "execution_count": 28,
   "metadata": {
    "scrolled": false
   },
   "outputs": [],
   "source": [
    "extracted = []\n",
    "for page_url in page_urls:\n",
    "    page = requests.get(page_url).text\n",
    "    \n",
    "    machine_readable_data = extruct.extract(page)\n",
    "\n",
    "    json_ld_product = [x for x in machine_readable_data['json-ld'] if \"@type\" in x and x[\"@type\"] == 'Product']\n",
    "    microdata_product = [x for x in machine_readable_data['microdata'] if \"type\" in x and x[\"type\"] == 'http://schema.org/Product']\n",
    "\n",
    "    # If there is only one 'gtin13' found, then it is most likely the product gtin13.\n",
    "    gtin13_regexed = set(gtin13regex.findall(page))\n",
    "    \n",
    "    # Cannot verify that this is actually a product, skip.\n",
    "    if not json_ld_product and not microdata_product:\n",
    "        continue\n",
    "    \n",
    "    elif json_ld_product:\n",
    "        json_ld = json_ld_product[0]\n",
    "        title = json_ld['name']\n",
    "        price = json_ld['offers']['price']\n",
    "        currency = json_ld['offers']['priceCurrency']\n",
    "        image = json_ld['image'][0]['url'] if isinstance(json_ld['image'], list) else json_ld['image']['url']\n",
    "        description = json_ld['description']\n",
    "        \n",
    "    elif microdata_product:\n",
    "        microdata = microdata_product[0]\n",
    "        title = microdata['properties']['name']\n",
    "        price = microdata['properties']['offers'][0]['properties']['price']\n",
    "        currency = microdata['properties']['offers'][0]['properties']['priceCurrency']\n",
    "        image = microdata['properties']['image'][0]\n",
    "        description = microdata['properties']['description']\n",
    "    else:\n",
    "        raise Exception(\"undefined behavior\")\n",
    "    \n",
    "    extracted.append({\n",
    "        \"json_ld\": json_ld_product, \n",
    "        \"microdata\": microdata_product, \n",
    "        \"gtin13_regexed\": gtin13_regexed,\n",
    "        \"sample_product_summary\": {\n",
    "            'url': page_url,\n",
    "            'title': title,\n",
    "            'price': price,\n",
    "            'currency': currency,\n",
    "            'image': image,\n",
    "            'description': description\n",
    "        }\n",
    "    })\n",
    "    \n",
    "# print(extracted)"
   ]
  },
  {
   "cell_type": "code",
   "execution_count": 27,
   "metadata": {},
   "outputs": [
    {
     "name": "stdout",
     "output_type": "stream",
     "text": [
      "SUMMARY: Xbox One X\n",
      "    price: 499 EUR\n",
      "    image: https://images.wehkamp.nl/i/wehkamp/213121_pb_01/microsoft-xbox-one-x-zwart-0889842208337.jpg\n",
      "    url: https://www.wehkamp.nl/microsoft-xbox-one-x-213121/\n",
      "    description: De Xbox One X is de meest krachtige console met 40% meer vermogen dan de Xbox One S. De console maakt het 4K gaming &eacute;cht mogelijk. Games spelen beter op Xbox One X. Ze zien er fenomenaal uit en laden snel. Geniet van vloeiende 4K gameplay, zelfs op een 1080p scherm. De console heeft 6 teraflops grafische rekenkracht (GPU), 320 GB per seconde geheugensnelheid en 8 CPU cores. Uiteraard speel je ook de beste line-up van Xbox One, Xbox 360 en originele Xbox klassiekers op Xbox One X.<br><br><strong>Verbeterde console</strong><br>De 8-core Custom AMD CPU heeft een snelheid van 2,3GHz voor een verbeterde AI, realistischere werelden en vlottere interacties tijdens het spelen. <br>Een GPU met 6 teraflops zorgt voor 4K-omgevingen en karakters die realistischer zijn dan ooit, met nog meer details en vlottere animaties. Grafische beelden in het spel zijn sneller en meer gedetailleerd met een geheugenbandbreedte van 326 GB/sec, zodat je steeds in het momentum blijft tijdens het gamen. <br><br>Alle Xbox One accessoires werken ook op Xbox One X, zodat je je favoriete controller kan blijven gebruiken. Het<br>tijdperk van &eacute;chte 4K gaming is eindelijk aangebroken.\n",
      "\n",
      "SUMMARY: Xbox One X console 1 TB (Gold Rush Special Edition) + Battlefield V (Deluxe Edition) + Battlefield 1943\n",
      "    price: 523,00 EUR\n",
      "    image: https://s.s-bol.com/imgbase0/imagebase3/regular/FC/4/9/2/2/9200000097502294.jpg\n",
      "    url: https://www.bol.com/nl/p/xbox-one-x-console-1-tb-battlefield-v-battlefield-1943/9200000097502294/\n",
      "    description: Vecht mee met Battlefield V op de krachtigste console ter wereld: Xbox One X.<br /><br /><b>Battlefield V</b><br />Stort je in het grootste conflict van de mensheid: de Tweede Wereldoorlog. Battlefield keert terug naar zijn roots. Vecht mee met de volledige downloadversies van Battlefield V Deluxe Edition en Battlefield 1943. De Deluxe Edition is verbeterd voor Xbox One X met ondersteuning van UHD/4K-resolutie en HDR en bevat parachutistenkleding, speciale missies om je vaardigheden te testen en wekelijkse Airlift-items. Geef leiding aan je soldaten tijdens intense multiplayergevechten op het meest geavanceerde multiplayernetwerk Xbox Live. Deze Battlefield V Gold Rush Special Edition-bundel heeft een uniek donkergrijs/goudkleurig ontwerp en wordt geleverd met 4K Ultra HD Blu-ray, 4K-videostreaming, Spatial Audio en een bijpassende draadloze controller. <br /><br /><b>Xbox One </b><br />Met 40% meer vermogen is de Xbox One X de krachtigste console ooit en maakt het 4K gaming écht mogelijk. Games spelen beter op Xbox One X. Ze zien er fenomenaal uit en laden snel. Geniet van vloeiende 4K gameplay, zelfs op een 1080p scherm. De console heeft 6 teraflops grafische rekenkracht (GPU), 320 GB per seconde geheugensnelheid en 8 CPU cores. Uiteraard speel je ook de beste line-up van Xbox One, Xbox 360 en originele Xbox klassiekers op Xbox One X. Alle Xbox One accessoires werken ook op Xbox One X, zodat je je favoriete controller kan blijven gebruiken. Het tijdperk van échte 4K gaming is eindelijk aangebroken met de krachtigste gameconsole, de Xbox One X.<br /><br />- Inclusief twee games: Battlefield V Deluxe Edition en Battlefield 1943 <br />- 4K Ultra HD Blu-ray™ & streaming, High Dynamic Range-technologie (HDR)<br />- 1TB opslagruimte <br />- Draadloze controller met grip én Bluetooth<br />- Ouderlijk toezicht voor privacy, speeltijd en content bewaking <br />- Xbox Live en internet vereist om de game te downloaden naar de console<br /><br /><h3 style=\"display:inline;\">Xbox One X enhanced</h3><br /><br /><b>Xbox One X enhanced</b><img src=\"https://www.bol.com/nl/cms/images/PDPFoto/xboxonexenhanced.png\" align=\"left\" style=\"margin:0px 40px 40px 0px\" /><br />Xbox One X enhanced games zijn speciaal gemaakt om het volledige potentieel van Xbox One X te benutten. Hierdoor heb je adembenemende details, betere performance met snellere laadtijden en hogere resolutie en stabielere en hogere framerates.<br /><br /><a href=\"https://www.bol.com/nl/ra/algemeen/xbox-one-x-enhanced-games/34085/index.html\">Bekijk alle Xbox One X enhanced games</a><br /><br /><b>In de box</b><br />1. Xbox One X Gold Rush Special Edition console (1TB)<br />2. Special Edition draadloze Xbox controller<br />3. Volledige downloadversie van Battlefield V (Deluxe Edition) <br />4. Volledige downloadversie van Battlefield 1943<br />5. Xbox Game Pass-proefperiode van 1 maand (niet geldig voor huidige abonnees en eerdere gebruikers van een proefperiode)<br />6. Xbox Live Gold-proefabonnement van 14 dagen (niet geldig voor huidige abonnees)<br /><br /><i>Let op: Deze bundel bevat de game Battlefield V (deluxe edition), desondanks is de leverdatum van dit artikel 20 november 2018. </i>\n",
      "\n",
      "SUMMARY: Microsoft Xbox One X 1TB Console, Black, CYV-00001\n",
      "    price: 409.95 USD\n",
      "    image: https://i5.wal.co/asr/1b1cd79d-cd43-4ad8-b79c-850a7e7e0d34_1.4c6589b0d40393a0d045594981c8e66b.jpeg-993fcf85808604dd5d8b9eb771baaef76ed33764-optim-450x450.jpg?odnBg=FFFFFF\n",
      "    url: https://www.walmart.com/ip/Microsoft-Xbox-One-X-1TB-Console-Black-CYV-00001/276629190\n",
      "    description: Games play better on Xbox One X. With 40% more power than any other console, experience immersive true 4K gaming. Blockbuster titles look great, run smoothly, and load quickly even on a 1080p screen. Xbox One X also works with all your Xbox One games and accessories as well as Xbox Live, the most advanced multiplayer network, giving you more ways to play.\n",
      "\n"
     ]
    }
   ],
   "source": [
    "for product in extracted:\n",
    "    summary = product['sample_product_summary']\n",
    "    print(f\"\"\"SUMMARY: {summary['title']}\n",
    "    price: {summary['price']} {summary['currency']}\n",
    "    image: {summary['image']}\n",
    "    url: {summary['url']}\n",
    "    description: {summary['description']}\n",
    "\"\"\")"
   ]
  }
 ],
 "metadata": {
  "kernelspec": {
   "display_name": "Python 3",
   "language": "python",
   "name": "python3"
  },
  "language_info": {
   "codemirror_mode": {
    "name": "ipython",
    "version": 3
   },
   "file_extension": ".py",
   "mimetype": "text/x-python",
   "name": "python",
   "nbconvert_exporter": "python",
   "pygments_lexer": "ipython3",
   "version": "3.6.5"
  }
 },
 "nbformat": 4,
 "nbformat_minor": 2
}
